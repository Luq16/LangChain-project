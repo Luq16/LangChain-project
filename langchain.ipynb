{
 "cells": [
  {
   "cell_type": "markdown",
   "metadata": {},
   "source": [
    "INTRODUCTION"
   ]
  },
  {
   "cell_type": "markdown",
   "metadata": {},
   "source": [
    "In this tutorial I have created example code of using OpenAI and Huggingface model through LangChain library to create.\n",
    "* LLM and chatmodels\n",
    "* Prompt templates\n",
    "* And output Parser"
   ]
  },
  {
   "cell_type": "code",
   "execution_count": 2,
   "metadata": {},
   "outputs": [],
   "source": [
    "#import libraries\n",
    "from langchain.llms import OpenAI\n",
    "from langchain import HuggingFaceHub\n",
    "from langchain.prompts import PromptTemplate\n",
    "import os\n",
    "from langchain.chat_models import ChatOpenAI\n",
    "from langchain.chains import SimpleSequentialChain\n",
    "from langchain.chains import SequentialChain\n",
    "from langchain.schema import HumanMessage,SystemMessage,AIMessage\n",
    "from langchain.prompts.chat import ChatPromptTemplate\n",
    "from langchain.schema import BaseOutputParser\n",
    "from langchain.chains import LLMChain"
   ]
  },
  {
   "cell_type": "markdown",
   "metadata": {},
   "source": [
    "Using OpenAI model"
   ]
  },
  {
   "cell_type": "code",
   "execution_count": 3,
   "metadata": {},
   "outputs": [],
   "source": [
    "# import OpenAI API key\n",
    "os.environ[\"OPEN_API_KEY\"]=\"\""
   ]
  },
  {
   "cell_type": "code",
   "execution_count": 4,
   "metadata": {},
   "outputs": [
    {
     "name": "stderr",
     "output_type": "stream",
     "text": [
      "/Users/luqman/Documents/LangchainProject/LangChain-project/venv/lib/python3.9/site-packages/langchain_core/_api/deprecation.py:117: LangChainDeprecationWarning: The class `langchain_community.llms.openai.OpenAI` was deprecated in langchain-community 0.0.10 and will be removed in 0.2.0. An updated version of the class exists in the langchain-openai package and should be used instead. To use it run `pip install -U langchain-openai` and import as `from langchain_openai import OpenAI`.\n",
      "  warn_deprecated(\n",
      "/Users/luqman/Documents/LangchainProject/LangChain-project/venv/lib/python3.9/site-packages/langchain_core/_api/deprecation.py:117: LangChainDeprecationWarning: The function `predict` was deprecated in LangChain 0.1.7 and will be removed in 0.2.0. Use invoke instead.\n",
      "  warn_deprecated(\n"
     ]
    },
    {
     "name": "stdout",
     "output_type": "stream",
     "text": [
      "\n",
      "\n",
      "1. Sodium channel genes: Mutations in sodium channel genes, such as SCN1A, SCN2A, and SCN8A, have been linked to various forms of epilepsy, including Dravet syndrome, genetic epilepsy with febrile seizures plus, and early infantile epileptic encephalopathy.\n",
      "\n",
      "2. Potassium channel genes: Mutations in potassium channel genes, such as KCNQ2 and KCNQ3, have been associated with benign familial neonatal seizures and early onset epileptic encephalopathy.\n",
      "\n",
      "3. GABA receptor genes: GABA is the main inhibitory neurotransmitter in the brain and mutations in genes involved in GABA signaling, such as GABRA1, GABRG2, and GABRD, have been linked to different types of epilepsy, including generalized epilepsy with febrile seizures plus and juvenile myoclonic epilepsy.\n",
      "\n",
      "4. Glutamate receptor genes: Glutamate is the main excitatory neurotransmitter in the brain and mutations in glutamate receptor genes, such as GRIN2A and GRIA1, have been linked to various forms of epilepsy, including focal epilepsy and epileptic encephalopathy.\n",
      "\n",
      "5. Ion channel regulator genes: Genes that regulate the activity of ion\n"
     ]
    }
   ],
   "source": [
    "# temperature has value from 0 to 1. vale close to 0 means roughly that the model will\n",
    "# always select the highest probability word. And value close to 1 model might select a word with slightly lower probability. therby, leading to more variation, randomness and creativity.\n",
    "\n",
    "llm=OpenAI(openai_api_key=os.environ[\"OPEN_API_KEY\"],temperature=0.6)\n",
    "text=\"What are genes enriched in epilepsy\"\n",
    "\n",
    "print(llm.predict(text))"
   ]
  },
  {
   "cell_type": "markdown",
   "metadata": {},
   "source": [
    "Using HuggingFace model"
   ]
  },
  {
   "cell_type": "code",
   "execution_count": 6,
   "metadata": {},
   "outputs": [
    {
     "name": "stdout",
     "output_type": "stream",
     "text": [
      "epilepsy\n"
     ]
    }
   ],
   "source": [
    "os.environ[\"HUGGINGFACEHUB_API_TOKEN\"]=\"\"\n",
    "llm_huggingface=HuggingFaceHub(repo_id=\"google/flan-t5-large\",model_kwargs={\"temperature\":0,\"max_length\":64})\n",
    "output=llm_huggingface.predict(\"What are genes mutated in epilepsy\")\n",
    "print(output)"
   ]
  },
  {
   "cell_type": "markdown",
   "metadata": {},
   "source": [
    "Note that OpenAI generate a more reasonable and comprehensive output that HuggingFace.\n",
    "Letäs try a more simple question."
   ]
  },
  {
   "cell_type": "code",
   "execution_count": 7,
   "metadata": {},
   "outputs": [
    {
     "name": "stdout",
     "output_type": "stream",
     "text": [
      "\n",
      "\n",
      "The capital of Finland is Helsinki.\n"
     ]
    }
   ],
   "source": [
    "#OpenAI\n",
    "text=\"What is the capital of Finland\"\n",
    "\n",
    "print(llm.predict(text))"
   ]
  },
  {
   "cell_type": "code",
   "execution_count": 8,
   "metadata": {},
   "outputs": [
    {
     "name": "stdout",
     "output_type": "stream",
     "text": [
      "helsinki\n"
     ]
    }
   ],
   "source": [
    "# HuggingFace\n",
    "output=llm_huggingface.predict(\"What is the capital of Finland\")\n",
    "print(output)"
   ]
  },
  {
   "cell_type": "markdown",
   "metadata": {},
   "source": [
    "Both model generate correct answer but the answer generated by OpenAi is more comprehensive"
   ]
  },
  {
   "cell_type": "markdown",
   "metadata": {},
   "source": [
    "Prompt Template and LLMchain"
   ]
  },
  {
   "cell_type": "markdown",
   "metadata": {},
   "source": [
    "A prompt template typically refers to a predefined structure or format for providing instructions or queries to a language model. In the context of using models like GPT-3, a prompt is a piece of text that you input to get a response from the model. A prompt template, therefore, would be a standardized way of constructing these prompts to achieve desired results."
   ]
  },
  {
   "cell_type": "code",
   "execution_count": 13,
   "metadata": {},
   "outputs": [
    {
     "data": {
      "text/plain": [
       "'What are the causes of diabetes'"
      ]
     },
     "execution_count": 13,
     "metadata": {},
     "output_type": "execute_result"
    }
   ],
   "source": [
    "prompt_template=PromptTemplate(input_variables=['disease'],\n",
    "template=\"What are the causes of {disease}\")\n",
    "\n",
    "prompt_template.format(disease=\"diabetes\")"
   ]
  },
  {
   "cell_type": "code",
   "execution_count": 14,
   "metadata": {},
   "outputs": [
    {
     "name": "stdout",
     "output_type": "stream",
     "text": [
      "\n",
      "\n",
      "1. Genetics: Diabetes can be inherited from parents or other family members. People with a family history of diabetes are more likely to develop the condition.\n",
      "\n",
      "2. Obesity: Being overweight or obese is a major risk factor for developing type 2 diabetes. Excess body fat, particularly in the abdomen, can make the body less sensitive to insulin.\n",
      "\n",
      "3. Sedentary lifestyle: Lack of physical activity and a sedentary lifestyle can increase the risk of developing type 2 diabetes. Regular exercise helps to control weight and improve insulin sensitivity.\n",
      "\n",
      "4. Unhealthy diet: Consuming a diet high in processed and sugary foods, and low in fruits and vegetables, can increase the risk of developing type 2 diabetes. These foods can cause spikes in blood sugar levels and contribute to insulin resistance.\n",
      "\n",
      "5. Age: The risk of developing type 2 diabetes increases with age, particularly after the age of 45. This may be due to a decrease in physical activity and muscle mass, as well as changes in hormone levels.\n",
      "\n",
      "6. Ethnicity: Certain ethnic groups, such as African Americans, Hispanic/Latino Americans, Native Americans, and Asian Americans, have a higher risk of developing diabetes.\n",
      "\n",
      "7. Gestational diabetes: Women who develop gestational diabetes during pregnancy have\n"
     ]
    }
   ],
   "source": [
    "chain=LLMChain(llm=llm,prompt=prompt_template)\n",
    "print(chain.run(\"diabetes\"))"
   ]
  },
  {
   "cell_type": "markdown",
   "metadata": {},
   "source": [
    "Combining Multiple Chains Uing simple Sequential Chain"
   ]
  },
  {
   "cell_type": "code",
   "execution_count": 18,
   "metadata": {},
   "outputs": [],
   "source": [
    "continent_template=PromptTemplate(input_variables=['continent'],\n",
    "template=\"Tell me a common genetict disease in {continent}\")\n",
    "\n",
    "continent_chain=LLMChain(llm=llm,prompt=continent_template)\n",
    "\n",
    "treat_template=PromptTemplate(input_variables=['disease'],\n",
    "template=\"How to treat {disease}\")\n",
    "treat_chain=LLMChain(llm=llm,prompt=treat_template)"
   ]
  },
  {
   "cell_type": "code",
   "execution_count": 24,
   "metadata": {},
   "outputs": [
    {
     "data": {
      "text/plain": [
       "' While there is currently no cure for sickle cell disease, there are treatments and management strategies that can help improve quality of life and prevent complications.\\n\\n1. Medications\\nThere are several medications that can help manage the symptoms of sickle cell disease. These include pain relievers, such as ibuprofen or acetaminophen, to help with the pain associated with sickle cell crises. Hydroxyurea is a medication that can help reduce the frequency of sickle cell crises and decrease the risk of other complications. Antibiotics may also be prescribed to help prevent infections.\\n\\n2. Blood transfusions\\nIn severe cases of sickle cell disease, regular blood transfusions may be necessary. This involves receiving healthy red blood cells from a donor to replace the sickle-shaped cells in the body. Blood transfusions can help improve anemia and reduce the risk of stroke and other complications.\\n\\n3. Bone marrow transplant\\nA bone marrow transplant is the only known cure for sickle cell disease. This procedure involves replacing the faulty bone marrow, which produces sickle-shaped red blood cells, with healthy bone marrow from a donor. However, this treatment is not widely available and carries significant risks.\\n\\n4. Oxygen therapy\\nIn some cases, oxygen therapy may be used to help improve oxygen'"
      ]
     },
     "execution_count": 24,
     "metadata": {},
     "output_type": "execute_result"
    }
   ],
   "source": [
    "chain=SimpleSequentialChain(chains=[continent_chain,treat_chain])\n",
    "chain.run(\"africa\")"
   ]
  },
  {
   "cell_type": "markdown",
   "metadata": {},
   "source": [
    "Sequential Chain"
   ]
  },
  {
   "cell_type": "code",
   "execution_count": 25,
   "metadata": {},
   "outputs": [],
   "source": [
    "continent_template=PromptTemplate(input_variables=['continent'],\n",
    "template=\"Tell me a common genetic disease in {continent}\")\n",
    "\n",
    "continent_chain=LLMChain(llm=llm,prompt=continent_template, output_key=\"genetic disease\")\n",
    "\n",
    "treat_template=PromptTemplate(input_variables=['genetic disease'],\n",
    "template=\"How to treat {genetic disease}\")\n",
    "treat_chain=LLMChain(llm=llm,prompt=treat_template, output_key=\"treat\")"
   ]
  },
  {
   "cell_type": "code",
   "execution_count": 26,
   "metadata": {},
   "outputs": [],
   "source": [
    "chain=SequentialChain(chains=[continent_chain,treat_chain],\n",
    "input_variables=['continent'],\n",
    "output_variables=['genetic disease',\"treat\"])"
   ]
  },
  {
   "cell_type": "code",
   "execution_count": 27,
   "metadata": {},
   "outputs": [
    {
     "name": "stderr",
     "output_type": "stream",
     "text": [
      "/Users/luqman/Documents/LangchainProject/LangChain-project/venv/lib/python3.9/site-packages/langchain_core/_api/deprecation.py:117: LangChainDeprecationWarning: The function `__call__` was deprecated in LangChain 0.1.0 and will be removed in 0.2.0. Use invoke instead.\n",
      "  warn_deprecated(\n"
     ]
    },
    {
     "data": {
      "text/plain": [
       "{'continent': 'Africa',\n",
       " 'genetic disease': '\\n\\nSickle cell disease (SCD) is a common genetic disease in Africa. It is estimated that about 200,000 babies are born with SCD in Africa each year, making it the most prevalent genetic disorder on the continent. SCD is caused by a mutation in the gene that produces hemoglobin, the protein responsible for carrying oxygen in the blood. This mutation causes red blood cells to become sickle-shaped, making them less able to carry oxygen and causing them to get stuck in blood vessels, leading to pain, organ damage, and other complications. SCD is most commonly found in people of African descent, as well as in people from the Middle East, Mediterranean, and Indian subcontinent. ',\n",
       " 'treat': '\\n\\nThere is currently no cure for SCD, but there are treatments that can help manage the symptoms and complications of the disease. These treatments include:\\n\\n1. Pain management: Pain is one of the most common symptoms of SCD, and it can be severe and debilitating. Treatment for pain may include over-the-counter or prescription pain relievers, as well as other methods such as heat therapy, massage, and relaxation techniques.\\n\\n2. Hydroxyurea: This medication can help reduce the frequency of pain episodes and the need for blood transfusions in people with SCD. It works by increasing the production of fetal hemoglobin, a type of hemoglobin that is less likely to sickle.\\n\\n3. Blood transfusions: In severe cases of SCD, blood transfusions may be necessary to replace damaged red blood cells with healthy ones. This can help prevent complications such as stroke, acute chest syndrome, and organ damage.\\n\\n4. Antibiotics: People with SCD are at an increased risk of infections, so they may be prescribed antibiotics to prevent or treat infections.\\n\\n5. Bone marrow transplant: In some cases, a bone marrow transplant may be recommended for people with severe SCD. This procedure involves replacing the faulty bone marrow with healthy bone marrow from a donor.\\n\\n6.'}"
      ]
     },
     "execution_count": 27,
     "metadata": {},
     "output_type": "execute_result"
    }
   ],
   "source": [
    "chain({'continent':\"Africa\"})"
   ]
  },
  {
   "cell_type": "markdown",
   "metadata": {},
   "source": [
    "Chatmodels With ChatOpenAI"
   ]
  },
  {
   "cell_type": "code",
   "execution_count": null,
   "metadata": {},
   "outputs": [],
   "source": [
    "chatllm=ChatOpenAI(openai_api_key=os.environ[\"OPEN_API_KEY\"],temperature=0.6,model='gpt-3.5-turbo')"
   ]
  },
  {
   "cell_type": "code",
   "execution_count": null,
   "metadata": {},
   "outputs": [],
   "source": [
    "chatllm([\n",
    "SystemMessage(content=\"Yor are a comedian AI assitant\"),\n",
    "HumanMessage(content=\"Please provide some comedy punchlines on AI\")\n",
    "])"
   ]
  },
  {
   "cell_type": "markdown",
   "metadata": {},
   "source": [
    "Prompt Template + LLM +Output Parsers"
   ]
  },
  {
   "cell_type": "code",
   "execution_count": null,
   "metadata": {},
   "outputs": [],
   "source": [
    "class Commaseperatedoutput(BaseOutputParser):\n",
    "    def parse(self,text:str):\n",
    "        return text.strip().split(\",\")"
   ]
  },
  {
   "cell_type": "code",
   "execution_count": null,
   "metadata": {},
   "outputs": [],
   "source": [
    "template=\"Your are a helpful assistant. When the use given any input , you should generate 5 words synonyms in a comma seperated list\"\n",
    "human_template=\"{text}\"\n",
    "chatprompt=ChatPromptTemplate.from_messages([\n",
    "    (\"system\",template),\n",
    "    (\"human\",human_template)\n",
    "\n",
    "\n",
    "])"
   ]
  },
  {
   "cell_type": "code",
   "execution_count": null,
   "metadata": {},
   "outputs": [],
   "source": [
    "chain=chatprompt|chatllm|Commaseperatedoutput()"
   ]
  },
  {
   "cell_type": "code",
   "execution_count": null,
   "metadata": {},
   "outputs": [],
   "source": [
    "chain.invoke({\"text\":\"intelligent\"})"
   ]
  },
  {
   "cell_type": "code",
   "execution_count": null,
   "metadata": {},
   "outputs": [],
   "source": []
  }
 ],
 "metadata": {
  "kernelspec": {
   "display_name": "Python 3",
   "language": "python",
   "name": "python3"
  },
  "language_info": {
   "codemirror_mode": {
    "name": "ipython",
    "version": 3
   },
   "file_extension": ".py",
   "mimetype": "text/x-python",
   "name": "python",
   "nbconvert_exporter": "python",
   "pygments_lexer": "ipython3",
   "version": "3.9.0"
  },
  "orig_nbformat": 4
 },
 "nbformat": 4,
 "nbformat_minor": 2
}
